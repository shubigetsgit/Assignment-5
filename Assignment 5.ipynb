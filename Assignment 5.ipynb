{
 "cells": [
  {
   "cell_type": "code",
   "execution_count": 2,
   "id": "bdf88cc8",
   "metadata": {},
   "outputs": [
    {
     "name": "stdout",
     "output_type": "stream",
     "text": [
      "0.008\n",
      "32768\n",
      "100\n"
     ]
    }
   ],
   "source": [
    "class py_solution:\n",
    "\n",
    "  def pow(self, x, n):\n",
    "\n",
    "       if x==0 or x==1 or n==1:\n",
    "\n",
    "           return x\n",
    "\n",
    "       if x==-1:\n",
    "\n",
    "           if n%2 ==0:\n",
    "\n",
    "               return 1\n",
    "\n",
    "           else:\n",
    "\n",
    "               return -1\n",
    "\n",
    "       if n==0:\n",
    "\n",
    "           return 1\n",
    "\n",
    "       if n<0:\n",
    "\n",
    "           return 1/self.pow(x,-n)\n",
    "\n",
    "       val = self.pow(x,n//2)\n",
    "\n",
    "       if n%2 ==0:\n",
    "\n",
    "           return val*val\n",
    "\n",
    "       return val*val*x\n",
    "\n",
    "print(py_solution().pow(5, -3));\n",
    "\n",
    "print(py_solution().pow(8, 5));\n",
    "\n",
    "print(py_solution().pow(10, 2));"
   ]
  },
  {
   "cell_type": "code",
   "execution_count": null,
   "id": "8a1a4007",
   "metadata": {},
   "outputs": [],
   "source": []
  }
 ],
 "metadata": {
  "kernelspec": {
   "display_name": "Python 3 (ipykernel)",
   "language": "python",
   "name": "python3"
  },
  "language_info": {
   "codemirror_mode": {
    "name": "ipython",
    "version": 3
   },
   "file_extension": ".py",
   "mimetype": "text/x-python",
   "name": "python",
   "nbconvert_exporter": "python",
   "pygments_lexer": "ipython3",
   "version": "3.10.6"
  }
 },
 "nbformat": 4,
 "nbformat_minor": 5
}
